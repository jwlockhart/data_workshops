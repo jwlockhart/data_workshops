{
 "cells": [
  {
   "cell_type": "markdown",
   "metadata": {},
   "source": [
    "# Data Manipulation Workshop\n",
    "## Ann Arbor Data Dive\n",
    "\n",
    "Instructor: [Jeff Lockhart](http://www-personal.umich.edu/~jwlock/)\n",
    "\n",
    "Date: 11/11/2017, 8:30 - 9:30 AM\n",
    "\n",
    "Materials online at: **[github.com/jwlockhart/data_workshops](https://github.com/jwlockhart/data_workshops/tree/master/intro_data_manip)**"
   ]
  },
  {
   "cell_type": "markdown",
   "metadata": {},
   "source": [
    "## Import packages\n",
    "- Packages contain a whole bunch of useful tools and functions for doing things in python. \n",
    "- `pandas` is a package of tools for working with data.\n",
    "- Here I have told python to use the abbreviation `pd` to refer to `pandas`. Programmers often do this so that we can type less. \n",
    "- `matplotlib` is a package for making charts and graphs, and here we're going to use the `pyplot` part of it and abbreviate that as `plt`\n",
    "- `%matplotlib inline` is what Jupyter Notebooks call \"magic.\" It tells the notebook to show us the graphs in the notebook rather than saving them as files or having them pop up. "
   ]
  },
  {
   "cell_type": "code",
   "execution_count": null,
   "metadata": {
    "collapsed": true
   },
   "outputs": [],
   "source": [
    "import pandas as pd\n",
    "import matplotlib.pyplot as plt\n",
    "\n",
    "%matplotlib inline"
   ]
  },
  {
   "cell_type": "markdown",
   "metadata": {},
   "source": [
    "## Load data\n",
    "- This code reads in data so that we can work with it in python. \n",
    "- We'll use different code later to save what we have done into a file so that we can use it later. \n",
    "- pandas can read and write data saved in many formats with these other functions:\n",
    "    - read_csv /  to_csv\n",
    "    - read_json /  to_json\n",
    "    - read_html /\tto_html\n",
    "    - read_clipboard /\tto_clipboard\n",
    "    - read_excel /\tto_excel\n",
    "    - read_hdf /\tto_hdf\n",
    "    - read_feather /\tto_feather\n",
    "    - read_msgpack /\tto_msgpack\n",
    "    - read_stata /\tto_stata\n",
    "    - read_sas \t \n",
    "    - read_pickle /\tto_pickle\n",
    "    - read_sql /\tto_sql\n",
    "    - read_gbq /\tto_gbq (Google Big Query)"
   ]
  },
  {
   "cell_type": "code",
   "execution_count": null,
   "metadata": {},
   "outputs": [],
   "source": [
    "gss = pd.read_csv('gss.csv')"
   ]
  },
  {
   "cell_type": "markdown",
   "metadata": {},
   "source": [
    "## Learn a bit about our data"
   ]
  },
  {
   "cell_type": "code",
   "execution_count": null,
   "metadata": {},
   "outputs": [],
   "source": [
    "print(\"The GSS data has\", gss.shape[0], \"rows and\", gss.shape[1], \"columns.\")"
   ]
  },
  {
   "cell_type": "code",
   "execution_count": null,
   "metadata": {},
   "outputs": [],
   "source": [
    "gss.shape"
   ]
  },
  {
   "cell_type": "code",
   "execution_count": null,
   "metadata": {},
   "outputs": [],
   "source": [
    "gss.columns"
   ]
  },
  {
   "cell_type": "markdown",
   "metadata": {},
   "source": [
    "## Look at our data"
   ]
  },
  {
   "cell_type": "code",
   "execution_count": null,
   "metadata": {},
   "outputs": [],
   "source": [
    "gss.head()"
   ]
  },
  {
   "cell_type": "code",
   "execution_count": null,
   "metadata": {},
   "outputs": [],
   "source": [
    "gss.head(10)"
   ]
  },
  {
   "cell_type": "code",
   "execution_count": null,
   "metadata": {},
   "outputs": [],
   "source": [
    "gss.tail(3)"
   ]
  },
  {
   "cell_type": "code",
   "execution_count": null,
   "metadata": {},
   "outputs": [],
   "source": [
    "gss['age'].head()"
   ]
  },
  {
   "cell_type": "code",
   "execution_count": null,
   "metadata": {},
   "outputs": [],
   "source": [
    "gss[['age', 'education.num', 'education']].head()"
   ]
  },
  {
   "cell_type": "markdown",
   "metadata": {},
   "source": [
    "## Summary statistics"
   ]
  },
  {
   "cell_type": "code",
   "execution_count": null,
   "metadata": {},
   "outputs": [],
   "source": [
    "gss['age'].mean()"
   ]
  },
  {
   "cell_type": "code",
   "execution_count": null,
   "metadata": {},
   "outputs": [],
   "source": [
    "gss['age'].describe()"
   ]
  },
  {
   "cell_type": "code",
   "execution_count": null,
   "metadata": {},
   "outputs": [],
   "source": [
    "gss['age'].describe().round(2)"
   ]
  },
  {
   "cell_type": "markdown",
   "metadata": {},
   "source": [
    "## Histograms"
   ]
  },
  {
   "cell_type": "code",
   "execution_count": null,
   "metadata": {},
   "outputs": [],
   "source": [
    "gss['age'].hist()"
   ]
  },
  {
   "cell_type": "code",
   "execution_count": null,
   "metadata": {},
   "outputs": [],
   "source": [
    "gss['age'].hist(bins=20)"
   ]
  },
  {
   "cell_type": "markdown",
   "metadata": {},
   "source": [
    "## Categorical data"
   ]
  },
  {
   "cell_type": "code",
   "execution_count": null,
   "metadata": {},
   "outputs": [],
   "source": [
    "gss['education'].value_counts()"
   ]
  },
  {
   "cell_type": "markdown",
   "metadata": {},
   "source": [
    "## Simple data manipulation\n",
    "- How many years has a person been out of school? Easy!"
   ]
  },
  {
   "cell_type": "code",
   "execution_count": null,
   "metadata": {},
   "outputs": [],
   "source": [
    "gss['years_out'] = gss['age'] - gss['education.num']\n",
    "gss.head()"
   ]
  },
  {
   "cell_type": "code",
   "execution_count": null,
   "metadata": {},
   "outputs": [],
   "source": [
    "gss[['age', 'education.num', 'years_out', 'education']].head(10)"
   ]
  },
  {
   "cell_type": "markdown",
   "metadata": {},
   "source": [
    "## But is that correct?\n",
    "- We can look at summary statistics to see if they make sense. Does anyone have negative years_out of school (i.e. they went to school more years than their age)? \n",
    "- There's also someting odd going on with education.num. 9 years of education is a high school graduate? 4 years is 7th-8th grade? There may be something strange in how the data is coded; we need to look it up elsewhere to know. "
   ]
  },
  {
   "cell_type": "code",
   "execution_count": null,
   "metadata": {},
   "outputs": [],
   "source": [
    "gss.years_out.describe()"
   ]
  },
  {
   "cell_type": "code",
   "execution_count": null,
   "metadata": {},
   "outputs": [],
   "source": [
    "gss.years_out.min()"
   ]
  },
  {
   "cell_type": "markdown",
   "metadata": {},
   "source": [
    "## More advanced data manipulation\n",
    "- Looks like we need to add 4 to our years of ed to fix it. There are several ways to do this."
   ]
  },
  {
   "cell_type": "code",
   "execution_count": null,
   "metadata": {
    "collapsed": true
   },
   "outputs": [],
   "source": [
    "gss['new_years'] = gss['education.num'] + 4"
   ]
  },
  {
   "cell_type": "code",
   "execution_count": null,
   "metadata": {
    "collapsed": true
   },
   "outputs": [],
   "source": [
    "gss['new_years2'] = gss['education.num'].apply(lambda x: x+4)"
   ]
  },
  {
   "cell_type": "code",
   "execution_count": null,
   "metadata": {
    "collapsed": true
   },
   "outputs": [],
   "source": [
    "def add4(x):\n",
    "    tmp = x+4\n",
    "    return tmp\n",
    "\n",
    "gss['new_years3'] = gss['education.num'].apply(add4)"
   ]
  },
  {
   "cell_type": "code",
   "execution_count": null,
   "metadata": {
    "collapsed": true
   },
   "outputs": [],
   "source": [
    "def add4(row):\n",
    "    tmp = row['education.num'] + 4\n",
    "    return tmp\n",
    "\n",
    "gss['new_years3'] = gss.apply(add4, axis=1)"
   ]
  },
  {
   "cell_type": "code",
   "execution_count": null,
   "metadata": {},
   "outputs": [],
   "source": [
    "gss.head()"
   ]
  },
  {
   "cell_type": "code",
   "execution_count": null,
   "metadata": {},
   "outputs": [],
   "source": [
    "gss[gss.years_out == 4]"
   ]
  },
  {
   "cell_type": "code",
   "execution_count": null,
   "metadata": {},
   "outputs": [],
   "source": [
    "gss.relationship.value_counts()"
   ]
  },
  {
   "cell_type": "code",
   "execution_count": null,
   "metadata": {
    "collapsed": true
   },
   "outputs": [],
   "source": []
  }
 ],
 "metadata": {
  "kernelspec": {
   "display_name": "Python 3",
   "language": "python",
   "name": "python3"
  },
  "language_info": {
   "codemirror_mode": {
    "name": "ipython",
    "version": 3
   },
   "file_extension": ".py",
   "mimetype": "text/x-python",
   "name": "python",
   "nbconvert_exporter": "python",
   "pygments_lexer": "ipython3",
   "version": "3.6.2"
  }
 },
 "nbformat": 4,
 "nbformat_minor": 2
}
